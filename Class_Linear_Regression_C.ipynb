{
  "nbformat": 4,
  "nbformat_minor": 0,
  "metadata": {
    "colab": {
      "name": "Class_Linear_Regression_C.ipynb",
      "provenance": [],
      "authorship_tag": "ABX9TyMNG6wN4cOJO8PG431RLRXU",
      "include_colab_link": true
    },
    "kernelspec": {
      "name": "python3",
      "display_name": "Python 3"
    },
    "language_info": {
      "name": "python"
    }
  },
  "cells": [
    {
      "cell_type": "markdown",
      "metadata": {
        "id": "view-in-github",
        "colab_type": "text"
      },
      "source": [
        "<a href=\"https://colab.research.google.com/github/hrwatts/C-Projects/blob/main/Class_Linear_Regression_C.ipynb\" target=\"_parent\"><img src=\"https://colab.research.google.com/assets/colab-badge.svg\" alt=\"Open In Colab\"/></a>"
      ]
    },
    {
      "cell_type": "markdown",
      "source": [
        "# Linear Regression in C++ #\n",
        "\n",
        "Linear regression is a fundamental tool of statistical analysis. The model assumes a random sample X and a corresponding response y ~ wX+b are given."
      ],
      "metadata": {
        "id": "ttCgBoRbBPZ2"
      }
    },
    {
      "cell_type": "code",
      "source": [
        "%%writefile mean.h\n",
        "#pragma once\n",
        "double mean(std::vector<double> const& v);"
      ],
      "metadata": {
        "colab": {
          "base_uri": "https://localhost:8080/"
        },
        "id": "vhd-vL4NCqEQ",
        "outputId": "a0a66d30-43ac-47f8-8057-86e1963eaeb3"
      },
      "execution_count": 478,
      "outputs": [
        {
          "output_type": "stream",
          "name": "stdout",
          "text": [
            "Overwriting mean.h\n"
          ]
        }
      ]
    },
    {
      "cell_type": "code",
      "source": [
        "%%writefile mean.cpp\n",
        "#include <vector>\n",
        "#include <numeric>\n",
        "#include <iostream>\n",
        "\n",
        "double mean(std::vector<double> const& v){\n",
        "    if(v.empty()){\n",
        "        return 0;\n",
        "    };\n",
        "\n",
        "    auto const count = static_cast<double>(v.size());\n",
        "    double bar = 0;\n",
        "    for(int i = 0; i < count; i++) {\n",
        "        bar = bar+v[i];\n",
        "    };\n",
        "    return bar/count;\n",
        "    };"
      ],
      "metadata": {
        "colab": {
          "base_uri": "https://localhost:8080/"
        },
        "id": "QdP0oV3ACrNu",
        "outputId": "db555d3c-3cfc-40e7-e715-4b3537d11afd"
      },
      "execution_count": 479,
      "outputs": [
        {
          "output_type": "stream",
          "name": "stdout",
          "text": [
            "Overwriting mean.cpp\n"
          ]
        }
      ]
    },
    {
      "cell_type": "code",
      "source": [
        "%%writefile LinearRegression.h\n",
        "#pragma once\n",
        "/* (c) 2022 Harrison Watts (C++11) \n",
        "*/\n",
        "\n",
        "class LinearRegression{\n",
        "    \n",
        "  public:\n",
        "    /* // Member Objects\n",
        "    */\n",
        "    std::vector<double> X;\n",
        "    std::vector<double> y;\n",
        "    double XHat;\n",
        "    double yHat;\n",
        "    int n;\n",
        "\n",
        "    // sum of squares SSxx\n",
        "    double SSxx;\n",
        "\n",
        "    // sum of deviations SSxy\n",
        "    double SSxy;\n",
        "\n",
        "    // Linear Regression Parameters\n",
        "    std::vector<double> beta;\n",
        "\n",
        "    // Fitted Model\n",
        "    std::vector<double> yP;\n",
        "\n",
        "    void linfit(std::vector<double>x, std::vector<double>yin){\n",
        "        X = x;\n",
        "        y = yin;\n",
        "        XHat = mean(X);\n",
        "        yHat = mean(y);\n",
        "        n=X.size();\n",
        "\n",
        "        // SSxx\n",
        "        double SSxx =0;\n",
        "        std::vector<double> SSxxVector(n);\n",
        "        for (int i = 0; i < n; i++) {\n",
        "          SSxxVector[i] = (X[i] - XHat)*(X[i] - XHat);\n",
        "          SSxx = SSxx + SSxxVector[i];\n",
        "        }\n",
        "\n",
        "        // SSxy\n",
        "        SSxy =0;\n",
        "        std::vector<double> SSxyVector (n);\n",
        "        for (int i = 0; i < n; i++) {\n",
        "          SSxyVector[i] = (X[i] - XHat)*(y[i] - yHat);\n",
        "          SSxy = SSxy + SSxyVector[i];\n",
        "        }\n",
        "\n",
        "        // beta \n",
        "        std::vector<double> fooVector (2);\n",
        "        beta = fooVector;\n",
        "        fooVector[1] = SSxy / SSxx;\n",
        "        fooVector[0] = yHat - beta[1]*XHat;\n",
        "        beta = fooVector;\n",
        "\n",
        "        // yP\n",
        "        yP = X;\n",
        "        for (int i = 0; i < n; i++) {\n",
        "            yP[i] = beta[0]+beta[1]*X[i];\n",
        "        }\n",
        "    }\n",
        "\n",
        "};\n"
      ],
      "metadata": {
        "colab": {
          "base_uri": "https://localhost:8080/"
        },
        "id": "lb31sazcDKU3",
        "outputId": "8a34b9c9-b016-4bb4-a82d-cbad8dcc3698"
      },
      "execution_count": 480,
      "outputs": [
        {
          "output_type": "stream",
          "name": "stdout",
          "text": [
            "Overwriting LinearRegression.h\n"
          ]
        }
      ]
    },
    {
      "cell_type": "code",
      "source": [
        "%%writefile main.cpp\n",
        "#include <vector>\n",
        "#include <numeric>\n",
        "#include <iostream>\n",
        "#include \"mean.h\"\n",
        "#include \"LinearRegression.h\"\n",
        "\n",
        "int main(){\n",
        "\n",
        "\n",
        "    // Print X & y\n",
        "    std::vector<double> X{0, 1, 2, 3, 4, 5, 6, 7, 8, 9};\n",
        "    std::vector<double> y{1, 3, 2, 5, 7, 8, 8, 9, 10, 12};  \n",
        "    \n",
        "    LinearRegression a;\n",
        "\n",
        "    std::cout << \" X    y  \" << \"\\n\";\n",
        "    for(int i=0;i<X.size();i++){\n",
        "    std::cout << \"  \" << X[i] << \"  \" << y[i] << \"\\n\";\n",
        "    }\n",
        "\n",
        "    std::cout << \"\\n Fitted Line\" << \"\\n\";\n",
        "\n",
        "    a.linfit(X,y);\n",
        "    int m = X.size();\n",
        "    \n",
        "    for(int i=0;i<m;i++){\n",
        "    std::cout << a.yP[i] << \"\\n\";\n",
        "    }\n",
        "\n",
        "    return 0;\n",
        "}"
      ],
      "metadata": {
        "colab": {
          "base_uri": "https://localhost:8080/"
        },
        "id": "UASJYcBFCcw4",
        "outputId": "7e09777d-c7b5-4006-f29a-74894f49047d"
      },
      "execution_count": 481,
      "outputs": [
        {
          "output_type": "stream",
          "name": "stdout",
          "text": [
            "Overwriting main.cpp\n"
          ]
        }
      ]
    },
    {
      "cell_type": "code",
      "source": [
        "%%script bash\n",
        "\n",
        "g++ main.cpp mean.cpp logreg.cpp -std=c++1z -o test"
      ],
      "metadata": {
        "id": "nY9niTRj4-So"
      },
      "execution_count": 482,
      "outputs": []
    },
    {
      "cell_type": "code",
      "source": [
        "!./test"
      ],
      "metadata": {
        "colab": {
          "base_uri": "https://localhost:8080/"
        },
        "id": "p62yU7F05T30",
        "outputId": "149f359d-767a-486d-8a66-8b8d0465bcb0"
      },
      "execution_count": 483,
      "outputs": [
        {
          "output_type": "stream",
          "name": "stdout",
          "text": [
            " X    y  \n",
            "  0  1\n",
            "  1  3\n",
            "  2  2\n",
            "  3  5\n",
            "  4  7\n",
            "  5  8\n",
            "  6  8\n",
            "  7  9\n",
            "  8  10\n",
            "  9  12\n",
            "\n",
            " Fitted Line\n",
            "6.5\n",
            "7.6697\n",
            "8.83939\n",
            "10.0091\n",
            "11.1788\n",
            "12.3485\n",
            "13.5182\n",
            "14.6879\n",
            "15.8576\n",
            "17.0273\n"
          ]
        }
      ]
    }
  ]
}