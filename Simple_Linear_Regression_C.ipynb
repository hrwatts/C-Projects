{
  "nbformat": 4,
  "nbformat_minor": 0,
  "metadata": {
    "colab": {
      "name": "Simple_Linear_Regression_C.ipynb",
      "provenance": [],
      "authorship_tag": "ABX9TyNWfFX59SPYmtUXzBhGEstS",
      "include_colab_link": true
    },
    "kernelspec": {
      "name": "python3",
      "display_name": "Python 3"
    },
    "language_info": {
      "name": "python"
    }
  },
  "cells": [
    {
      "cell_type": "markdown",
      "metadata": {
        "id": "view-in-github",
        "colab_type": "text"
      },
      "source": [
        "<a href=\"https://colab.research.google.com/github/hrwatts/C-Projects/blob/main/Simple_Linear_Regression_C.ipynb\" target=\"_parent\"><img src=\"https://colab.research.google.com/assets/colab-badge.svg\" alt=\"Open In Colab\"/></a>"
      ]
    },
    {
      "cell_type": "markdown",
      "source": [
        "# Linear Regression in C++ #\n",
        "\n",
        "Linear regression is a fundamental tool of statistical analysis. The line of best fit for a scatter plot is implemented here in C++ in Google Colab. "
      ],
      "metadata": {
        "id": "ttCgBoRbBPZ2"
      }
    },
    {
      "cell_type": "code",
      "source": [
        "%%writefile linreg.h\n",
        "#pragma once\n",
        "std::vector<double> linreg(std::vector<double> const& x, std::vector<double> const& y);\n"
      ],
      "metadata": {
        "colab": {
          "base_uri": "https://localhost:8080/"
        },
        "id": "ETE40gf5Bj_z",
        "outputId": "bae192b4-82f8-457e-cd23-8705145007af"
      },
      "execution_count": 495,
      "outputs": [
        {
          "output_type": "stream",
          "name": "stdout",
          "text": [
            "Overwriting linreg.h\n"
          ]
        }
      ]
    },
    {
      "cell_type": "code",
      "source": [
        "%%writefile mean.h\n",
        "#pragma once\n",
        "double mean(std::vector<double> const& v);"
      ],
      "metadata": {
        "colab": {
          "base_uri": "https://localhost:8080/"
        },
        "id": "P1vGTHigDk_P",
        "outputId": "8f77eb37-ddc8-4a2c-e633-57e9c6c2cfb2"
      },
      "execution_count": 496,
      "outputs": [
        {
          "output_type": "stream",
          "name": "stdout",
          "text": [
            "Overwriting mean.h\n"
          ]
        }
      ]
    },
    {
      "cell_type": "code",
      "source": [
        "%%writefile mean.cpp\n",
        "#include <vector>\n",
        "#include <numeric>\n",
        "#include <iostream>\n",
        "/* (c) Harrison Watts (C++11) for Google Colab\n",
        "*/\n",
        "\n",
        "double mean(std::vector<double> const& v){\n",
        "    if(v.empty()){\n",
        "        return 0;\n",
        "    }\n",
        "\n",
        "    auto const count = static_cast<double>(v.size());\n",
        "    float bar = 0;\n",
        "    for(int i = 0; i < count; i++) {\n",
        "        bar = bar+v[i];\n",
        "    }\n",
        "    return bar/count;\n",
        "    }"
      ],
      "metadata": {
        "colab": {
          "base_uri": "https://localhost:8080/"
        },
        "id": "EjdvY4caDfVe",
        "outputId": "f539693e-cbec-44af-e48f-2a0100e95871"
      },
      "execution_count": 497,
      "outputs": [
        {
          "output_type": "stream",
          "name": "stdout",
          "text": [
            "Overwriting mean.cpp\n"
          ]
        }
      ]
    },
    {
      "cell_type": "code",
      "source": [
        "%%writefile linreg.cpp\n",
        "#include <vector>\n",
        "#include <numeric>\n",
        "#include <iostream>\n",
        "#include \"mean.h\"\n",
        "/* (c) 2022 Harrison Watts (C++11) for Google Colab\n",
        "*/\n",
        "\n",
        "std::vector<double> linreg(std::vector<double> const& x, std::vector<double> const& y){    \n",
        "\n",
        "    \n",
        "    auto const count = static_cast<double>(x.size());\n",
        "\n",
        "    // mean values\n",
        "    auto const xhat = mean(x);\n",
        "    auto const yhat = mean(y);\n",
        "\n",
        "    // sum of squares SSxx\n",
        "    std::vector<double> SSxxVector (count);\n",
        "    float SSxx = 0;\n",
        "    for (int i = 0; i < count; i++) {\n",
        "        SSxxVector[i] = (x[i] - xhat)*(x[i] - xhat);\n",
        "        SSxx = SSxx + SSxxVector[i];\n",
        "    }\n",
        "\n",
        "    // sum of deviations SSxy\n",
        "    std::vector<double> SSxyVector (count);\n",
        "    float SSxy = 0;\n",
        "    for (int i = 0; i < count; i++) {\n",
        "        SSxyVector[i] = (x[i] - xhat)*(y[i] - yhat);\n",
        "        SSxy = SSxy + SSxyVector[i];\n",
        "    }\n",
        "\n",
        "    // Linear Regression Parameters\n",
        "    std::vector<double> beta (2);\n",
        "    beta[1] = SSxy / SSxx;\n",
        "    beta[0] = yhat - beta[1]*xhat;\n",
        "\n",
        "    // Regression Fit\n",
        "    std::vector<double> fit (count);\n",
        "    for (int i = 0; i < count; i++) {\n",
        "        fit[i] = beta[0]+beta[1]*x[i];\n",
        "    }\n",
        "\n",
        "    return fit;\n",
        "};\n"
      ],
      "metadata": {
        "colab": {
          "base_uri": "https://localhost:8080/"
        },
        "id": "KJQOT-QMCCgi",
        "outputId": "e08c5242-969d-4b54-c12d-a5aae4d710fb"
      },
      "execution_count": 498,
      "outputs": [
        {
          "output_type": "stream",
          "name": "stdout",
          "text": [
            "Overwriting linreg.cpp\n"
          ]
        }
      ]
    },
    {
      "cell_type": "code",
      "source": [
        "%%writefile main.cpp\n",
        "#include <vector>\n",
        "#include <numeric>\n",
        "#include <iostream>\n",
        "#include \"mean.h\"\n",
        "#include \"linreg.h\"\n",
        "\n",
        "int main(){\n",
        "\n",
        "\n",
        "    // Print X & y\n",
        "    std::vector<double> x{0, 1, 2, 3, 4, 5, 6, 7, 8, 9};\n",
        "    std::vector<double> y{1, 3, 2, 5, 7, 8, 8, 9, 10, 12};  \n",
        "    std::cout << \" X    y  \" << \"\\n\";\n",
        "    for(int i=0;i<x.size();i++){\n",
        "    std::cout << \"  \" << x[i] << \"  \" << y[i] << \"\\n\";\n",
        "    }\n",
        "\n",
        "    \n",
        "    auto const a = linreg(x,y);\n",
        "    std::cout << \"\\n Fitted Line\" << \"\\n\";\n",
        "    for(int i=0;i<a.size();i++){\n",
        "    std::cout << a[i] << \"\\n\";\n",
        "    }\n",
        "    return 0;\n",
        "}"
      ],
      "metadata": {
        "colab": {
          "base_uri": "https://localhost:8080/"
        },
        "id": "UASJYcBFCcw4",
        "outputId": "8c2d4daf-a0fd-446f-c2af-3fc01934183c"
      },
      "execution_count": 499,
      "outputs": [
        {
          "output_type": "stream",
          "name": "stdout",
          "text": [
            "Overwriting main.cpp\n"
          ]
        }
      ]
    },
    {
      "cell_type": "code",
      "source": [
        "%%script bash\n",
        "\n",
        "g++ main.cpp mean.cpp linreg.cpp -std=c++1z -o test"
      ],
      "metadata": {
        "id": "nY9niTRj4-So"
      },
      "execution_count": 500,
      "outputs": []
    },
    {
      "cell_type": "code",
      "source": [
        "!./test"
      ],
      "metadata": {
        "colab": {
          "base_uri": "https://localhost:8080/"
        },
        "id": "p62yU7F05T30",
        "outputId": "f23b68bb-72ab-4ef4-d6d0-6d049c68e04b"
      },
      "execution_count": 501,
      "outputs": [
        {
          "output_type": "stream",
          "name": "stdout",
          "text": [
            " X    y  \n",
            "  0  1\n",
            "  1  3\n",
            "  2  2\n",
            "  3  5\n",
            "  4  7\n",
            "  5  8\n",
            "  6  8\n",
            "  7  9\n",
            "  8  10\n",
            "  9  12\n",
            "\n",
            " Fitted Line\n",
            "1.23636\n",
            "2.40606\n",
            "3.57576\n",
            "4.74545\n",
            "5.91515\n",
            "7.08485\n",
            "8.25455\n",
            "9.42424\n",
            "10.5939\n",
            "11.7636\n"
          ]
        }
      ]
    }
  ]
}